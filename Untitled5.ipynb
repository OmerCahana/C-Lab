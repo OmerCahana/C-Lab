{
  "nbformat": 4,
  "nbformat_minor": 0,
  "metadata": {
    "colab": {
      "name": "Untitled5.ipynb",
      "version": "0.3.2",
      "provenance": [],
      "include_colab_link": true
    },
    "kernelspec": {
      "name": "python3",
      "display_name": "Python 3"
    }
  },
  "cells": [
    {
      "cell_type": "markdown",
      "metadata": {
        "id": "view-in-github",
        "colab_type": "text"
      },
      "source": [
        "<a href=\"https://colab.research.google.com/github/OmerCahana/C-Lab/blob/master/Untitled5.ipynb\" target=\"_parent\"><img src=\"https://colab.research.google.com/assets/colab-badge.svg\" alt=\"Open In Colab\"/></a>"
      ]
    },
    {
      "metadata": {
        "id": "0qCvMxMpqc7H",
        "colab_type": "text"
      },
      "cell_type": "markdown",
      "source": [
        "**Name**: Omer cahana\n",
        "\n",
        "**ID** : 203166764\n",
        "\n",
        "**Title** : physical violent detection\n",
        "\n",
        "**Aims**: Develop a technique for the automatic detection of violent from videos.\n",
        "           \n",
        "**Dataset**: [1] Hockey Dataset\n",
        "[2]  Violent-Flows Dataset\n",
        "[3]Movies Dataset\n",
        "\n",
        "\n",
        "**Approach**: \n",
        "After analyzing the data i tend to believe that if i use bidirectional lstm with more accuracy method for extracting features, i will improve the results.\n",
        "\n",
        "My baseline paper is \"Learning to detect violent videos using convolution long short-term memory\".\n",
        "\n",
        "\n",
        "**preliminary results**:\n",
        "https://ibb.co/0DY60hv"
      ]
    }
  ]
}